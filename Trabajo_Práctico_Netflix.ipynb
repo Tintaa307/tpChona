{
  "cells": [
    {
      "cell_type": "markdown",
      "metadata": {
        "id": "4inX2ZBNAP8E"
      },
      "source": [
        "#Imports\n"
      ]
    },
    {
      "cell_type": "code",
      "execution_count": 1,
      "metadata": {
        "id": "UEIFsc8J-ssL"
      },
      "outputs": [],
      "source": [
        "import matplotlib.pyplot as plt\n",
        "import pandas as pd\n",
        "import numpy as np\n",
        "from collections import Counter\n",
        "import seaborn as sns"
      ]
    },
    {
      "cell_type": "markdown",
      "metadata": {
        "id": "rFHMxN17LNcd"
      },
      "source": [
        "#Funciones"
      ]
    },
    {
      "cell_type": "code",
      "execution_count": 34,
      "metadata": {
        "id": "MTiKXERAg0md"
      },
      "outputs": [],
      "source": [
        "def esChona(disp): #Esta funcion devuelve una lista con todos los dispositivos que son de Chona\n",
        "  return disp not in ['Sony PS4', 'Netflix Windows App - Cadmium Windows Mobile', 'Apple iPhone 6s', 'Apple iPhone 7 Plus (CDMA)', 'Chrome PC (Cadmium)', 'Samsung 2015 NT14M DTV Smart TV', 'iPhone 5S GSM', 'Google Chromecast V3 Streaming Stick', 'TRAILER', 'HOOK', 'RECAP', 'TEASER_TRAILER']"
      ]
    },
    {
      "cell_type": "code",
      "execution_count": 33,
      "metadata": {
        "id": "7pD3zpBjiwRK"
      },
      "outputs": [],
      "source": [
        "def filterMovies(title): #Esta funcion devuelve el tipo de titulo que se esta reproduciendo\n",
        "  if len(title.split(\":\")) <= 2:\n",
        "    return \"Movie\"\n",
        "  else:\n",
        "    return \"Series\""
      ]
    },
    {
      "cell_type": "code",
      "execution_count": 32,
      "metadata": {
        "id": "q7SRbsAiIgAH"
      },
      "outputs": [],
      "source": [
        "def maxList(myList):\n",
        "  max = 0\n",
        "  for i in myList:\n",
        "    if max < myList[i]: \n",
        "      max = myList[i]\n",
        "      maxDisp = i\n",
        "  return maxDisp"
      ]
    },
    {
      "cell_type": "code",
      "execution_count": 31,
      "metadata": {
        "id": "sYjRR4Kxko1T"
      },
      "outputs": [],
      "source": [
        "def transformTime(myStr): #Esta funcion sirve para transformar el tiempo del formato \"00:00:00\" a segundos\n",
        "  totalTime = 0\n",
        "  if int(myStr[0]) > 0:\n",
        "    totalTime += (myStr[0] * 10 * 60 * 60)\n",
        "  if int(myStr[1]) > 0:\n",
        "    totalTime += (int(myStr[1]) * 60 * 60)\n",
        "  if int(myStr[3]) > 0:\n",
        "    totalTime += (int(myStr[3]) * 10 * 60)\n",
        "  if int(myStr[4]) > 0:\n",
        "    totalTime += (int(myStr[4]) * 60)\n",
        "  if int(myStr[6]) > 0:\n",
        "    totalTime += (int(myStr[6]) * 10)\n",
        "  if int(myStr[7]) > 0:\n",
        "    totalTime += int(myStr[7])\n",
        "  return totalTime"
      ]
    },
    {
      "cell_type": "code",
      "execution_count": 50,
      "metadata": {
        "id": "D4yWG_1dJAVi"
      },
      "outputs": [],
      "source": [
        "def getAnio(anio): #Funcion para obtener el año\n",
        "  anioFinal = 0\n",
        "  anioFinal += int(anio[0]) * 1000\n",
        "  anioFinal += int(anio[1]) * 100\n",
        "  anioFinal += int(anio[2]) * 10\n",
        "  anioFinal += int(anio[3])\n",
        "  return int(anioFinal)"
      ]
    },
    {
      "cell_type": "markdown",
      "metadata": {
        "id": "faC7NyqHAhD-"
      },
      "source": [
        "#Ejercicios"
      ]
    },
    {
      "cell_type": "code",
      "execution_count": null,
      "metadata": {
        "id": "wPJWlUf4A16A"
      },
      "outputs": [],
      "source": [
        "#Esto es para poder leer el archivo en los ejercicios"
      ]
    },
    {
      "cell_type": "code",
      "execution_count": 35,
      "metadata": {
        "id": "tU3aDmRCA5y4"
      },
      "outputs": [],
      "source": [
        "dfBasic = pd.read_csv(\"NetflixHistory.csv\")"
      ]
    },
    {
      "cell_type": "markdown",
      "metadata": {
        "id": "rEONt2Z1gVLu"
      },
      "source": [
        "(filter)"
      ]
    },
    {
      "cell_type": "code",
      "execution_count": 36,
      "metadata": {
        "id": "UjOgM9AugXf-"
      },
      "outputs": [],
      "source": [
        "df = dfBasic[dfBasic[\"Device Type\"].apply(esChona)] #Esto filtra los dispositivos\n",
        "dfFinal = df[df[\"Supplemental Video Type\"].apply(esChona)] #esto filtra los trailers"
      ]
    },
    {
      "cell_type": "markdown",
      "metadata": {
        "id": "B0CgIlaoAogd"
      },
      "source": [
        "##a)"
      ]
    },
    {
      "cell_type": "code",
      "execution_count": null,
      "metadata": {
        "id": "a4vqnwdcAYFS"
      },
      "outputs": [],
      "source": [
        "#Consigna: Contabilizar el dispositivo con el que más títulos se reprodujeron."
      ]
    },
    {
      "cell_type": "code",
      "execution_count": 37,
      "metadata": {
        "colab": {
          "base_uri": "https://localhost:8080/",
          "height": 35
        },
        "id": "GsKAziV1hd-I",
        "outputId": "4a3b03b8-0db2-460e-92d7-bcf7e345ef4e"
      },
      "outputs": [
        {
          "output_type": "execute_result",
          "data": {
            "text/plain": [
              "'Apple Apple TV 4 Apple TV'"
            ],
            "application/vnd.google.colaboratory.intrinsic+json": {
              "type": "string"
            }
          },
          "metadata": {},
          "execution_count": 37
        }
      ],
      "source": [
        "devList = {} #Creo una lista vacia\n",
        "for i, row in dfFinal.iterrows(): #Recorro la lista\n",
        "  device = row[\"Device Type\"]\n",
        "  if device in devList: #Pregunto si el dispositivo esta en la lista\n",
        "    devList[device] += 1 #Sumo uno si esta\n",
        "  else:\n",
        "    devList[device] = 1\n",
        "maxList(devList) #Muestro la lista"
      ]
    },
    {
      "cell_type": "markdown",
      "metadata": {
        "id": "KBD2WqDTAp0a"
      },
      "source": [
        "##b)"
      ]
    },
    {
      "cell_type": "code",
      "execution_count": null,
      "metadata": {
        "id": "ctZvJxg0Aqzh"
      },
      "outputs": [],
      "source": [
        "#Consigna: Encontrar la película con más ocurrencias y la película con mayor duración total."
      ]
    },
    {
      "cell_type": "code",
      "execution_count": 38,
      "metadata": {
        "id": "b2-BYwYrMFId",
        "colab": {
          "base_uri": "https://localhost:8080/"
        },
        "outputId": "91971b86-52f7-4ca8-d8e1-29c1604a34fe"
      },
      "outputs": [
        {
          "output_type": "stream",
          "name": "stderr",
          "text": [
            "/usr/local/lib/python3.7/dist-packages/ipykernel_launcher.py:1: SettingWithCopyWarning: \n",
            "A value is trying to be set on a copy of a slice from a DataFrame.\n",
            "Try using .loc[row_indexer,col_indexer] = value instead\n",
            "\n",
            "See the caveats in the documentation: https://pandas.pydata.org/pandas-docs/stable/user_guide/indexing.html#returning-a-view-versus-a-copy\n",
            "  \"\"\"Entry point for launching an IPython kernel.\n"
          ]
        }
      ],
      "source": [
        "dfFinal[\"Type\"] = dfFinal[\"Title\"].apply(filterMovies) # Aca agregamos el tipo al dataframe"
      ]
    },
    {
      "cell_type": "code",
      "execution_count": 39,
      "metadata": {
        "colab": {
          "base_uri": "https://localhost:8080/",
          "height": 35
        },
        "id": "VrmQdfb7E_tf",
        "outputId": "b8366de2-a553-4fb7-cfc3-61b8953e14cb"
      },
      "outputs": [
        {
          "output_type": "execute_result",
          "data": {
            "text/plain": [
              "'Star Wars: El Imperio contraataca'"
            ],
            "application/vnd.google.colaboratory.intrinsic+json": {
              "type": "string"
            }
          },
          "metadata": {},
          "execution_count": 39
        }
      ],
      "source": [
        "viewsList = {} #Creo una lista vacia\n",
        "dfMovies = dfFinal[dfFinal[\"Type\"] == \"Movie\"] #Filtro las peliculas\n",
        "for i, row in dfMovies.iterrows(): #Recorro las peliculas\n",
        "  views = row[\"Title\"]\n",
        "  if views in viewsList: #Pregunto si la pelicula esta en la lista\n",
        "    viewsList[views] += 1 #Si es asi le sumo uno\n",
        "  else:\n",
        "    viewsList[views] = 1\n",
        "maxList(viewsList) #Muestro la lista"
      ]
    },
    {
      "cell_type": "code",
      "execution_count": null,
      "metadata": {
        "id": "ci2ngAH4vAYO"
      },
      "outputs": [],
      "source": [
        "#Consigna: B ii:"
      ]
    },
    {
      "cell_type": "code",
      "execution_count": 42,
      "metadata": {
        "id": "sr10T8E6LoV4",
        "colab": {
          "base_uri": "https://localhost:8080/",
          "height": 160
        },
        "outputId": "8e93e5ac-56e3-4f72-f604-4d83017c354e"
      },
      "outputs": [
        {
          "output_type": "stream",
          "name": "stderr",
          "text": [
            "/usr/local/lib/python3.7/dist-packages/ipykernel_launcher.py:3: SettingWithCopyWarning: \n",
            "A value is trying to be set on a copy of a slice from a DataFrame.\n",
            "Try using .loc[row_indexer,col_indexer] = value instead\n",
            "\n",
            "See the caveats in the documentation: https://pandas.pydata.org/pandas-docs/stable/user_guide/indexing.html#returning-a-view-versus-a-copy\n",
            "  This is separate from the ipykernel package so we can avoid doing imports until\n"
          ]
        },
        {
          "output_type": "execute_result",
          "data": {
            "text/plain": [
              "'Star Wars: El Imperio contraataca'"
            ],
            "application/vnd.google.colaboratory.intrinsic+json": {
              "type": "string"
            }
          },
          "metadata": {},
          "execution_count": 42
        }
      ],
      "source": [
        "dfNuevo = dfMovies.groupby([\"Title\"]).sum() #Agrupo por los titulos de las pelis\n",
        "seconds = dfMovies[\"Duration\"].apply(transformTime) #Transformo la duracion en segundos\n",
        "dfMovies[\"Seconds\"] = seconds #Creo la columna seconds\n",
        "dfNuevo[\"Seconds\"].idxmax() #Saco el titulo con mas segundos"
      ]
    },
    {
      "cell_type": "markdown",
      "metadata": {
        "id": "THYcaZCzArVX"
      },
      "source": [
        "##c) "
      ]
    },
    {
      "cell_type": "code",
      "execution_count": null,
      "metadata": {
        "id": "bv8EKl0_Ar37"
      },
      "outputs": [],
      "source": [
        "#Consigna: Generar un TOP “N” de series vistas y graficar."
      ]
    },
    {
      "cell_type": "markdown",
      "metadata": {
        "id": "FoqRdCZMBMF3"
      },
      "source": [
        "i)"
      ]
    },
    {
      "cell_type": "code",
      "execution_count": null,
      "metadata": {
        "id": "EaMgjnj8BSxj"
      },
      "outputs": [],
      "source": [
        "#Consigna: Por tiempo visto"
      ]
    },
    {
      "cell_type": "code",
      "execution_count": 43,
      "metadata": {
        "id": "PrUC6eQzkb57",
        "colab": {
          "base_uri": "https://localhost:8080/"
        },
        "outputId": "83c8b3a0-aa5d-4f3e-fd72-198a1ef721d3"
      },
      "outputs": [
        {
          "output_type": "stream",
          "name": "stderr",
          "text": [
            "/usr/local/lib/python3.7/dist-packages/ipykernel_launcher.py:3: SettingWithCopyWarning: \n",
            "A value is trying to be set on a copy of a slice from a DataFrame.\n",
            "Try using .loc[row_indexer,col_indexer] = value instead\n",
            "\n",
            "See the caveats in the documentation: https://pandas.pydata.org/pandas-docs/stable/user_guide/indexing.html#returning-a-view-versus-a-copy\n",
            "  This is separate from the ipykernel package so we can avoid doing imports until\n"
          ]
        }
      ],
      "source": [
        "dfSeries = dfFinal[dfFinal[\"Type\"] == \"Series\"] #Filtrar por series\n",
        "seconds = dfSeries[\"Duration\"].apply(transformTime) #Transforma a segundos\n",
        "dfSeries[\"Seconds\"] = seconds #Crea la columna segundos"
      ]
    },
    {
      "cell_type": "code",
      "execution_count": 44,
      "metadata": {
        "id": "OKT1tJf45JSA",
        "colab": {
          "base_uri": "https://localhost:8080/"
        },
        "outputId": "294995a8-03a0-4315-e94e-5c228243a7a5"
      },
      "outputs": [
        {
          "output_type": "execute_result",
          "data": {
            "text/plain": [
              "Title\n",
              "La ley de los audaces: Temporada 1: Piloto (Partes 1 y 2) (Capítulo 1)    19496\n",
              "Community: Temporada 6: Espionaje moderno (Capítulo 11)                   16836\n",
              "Doctor Who: Temporada 4: Las aguas de Marte (Capítulo 17)                 11076\n",
              "Name: Seconds, dtype: int64"
            ]
          },
          "metadata": {},
          "execution_count": 44
        }
      ],
      "source": [
        "df = dfSeries.groupby([\"Title\"]).sum() #Agrupa las series\n",
        "dfTop = df[\"Seconds\"].nlargest(3) #Filtra por la mayor duracion y devuelve los primero 3\n",
        "dfTop #Muestra el top"
      ]
    },
    {
      "cell_type": "code",
      "source": [
        "series = dfTop.index #Obtiene cada serie del top"
      ],
      "metadata": {
        "id": "8nAV8PcKFaXT"
      },
      "execution_count": 45,
      "outputs": []
    },
    {
      "cell_type": "code",
      "source": [
        "plt.figure(figsize = (20,10)) #Define el fontSize\n",
        "grafico = sns.barplot(x = series, y = dfTop) #Definimos mostrar las series en el eje x y las reproducciones en el y\n",
        "plt.xlabel(\"Series\", fontsize = 20) #Definimos el label de las series\n",
        "plt.ylabel(\"Duracion\", fontsize = 20) #Definimos el label de la duracion"
      ],
      "metadata": {
        "colab": {
          "base_uri": "https://localhost:8080/",
          "height": 507
        },
        "id": "UUkCkS13DxrU",
        "outputId": "dc6a1f6c-4ae4-4f01-d9c6-23c0ea67aa04"
      },
      "execution_count": 46,
      "outputs": [
        {
          "output_type": "execute_result",
          "data": {
            "text/plain": [
              "Text(0, 0.5, 'Duracion')"
            ]
          },
          "metadata": {},
          "execution_count": 46
        },
        {
          "output_type": "display_data",
          "data": {
            "text/plain": [
              "<Figure size 1440x720 with 1 Axes>"
            ],
            "image/png": "[encoded data removed]"
          },
          "metadata": {
            "needs_background": "light"
          }
        }
      ]
    },
    {
      "cell_type": "markdown",
      "metadata": {
        "id": "YRaW9Tj1BOOY"
      },
      "source": [
        "ii)"
      ]
    },
    {
      "cell_type": "code",
      "execution_count": null,
      "metadata": {
        "id": "pOTN3Qc5BXPv"
      },
      "outputs": [],
      "source": [
        "#Consigna: Por ocurrencias"
      ]
    },
    {
      "cell_type": "code",
      "execution_count": 18,
      "metadata": {
        "colab": {
          "base_uri": "https://localhost:8080/"
        },
        "id": "rjWQ7a5Jre3a",
        "outputId": "5a1e4cf3-6968-4dd6-b49d-52afe0e8e3cb"
      },
      "outputs": [
        {
          "name": "stdout",
          "output_type": "stream",
          "text": [
            "Ingrese la cantidad de seris que se les muestren 5\n"
          ]
        }
      ],
      "source": [
        "num = int(input(\"Ingrese la cantidad de seris que se les muestren \"))\n",
        "\n",
        "dfSeries = dfFinal[dfFinal[\"Type\"] == \"Series\"] #Filtra por serie\n",
        "viewsList = {} #Crea una lista vacia\n",
        "\n",
        "for i, row in dfSeries.iterrows(): #Recorre la lista\n",
        "  views = row[\"Title\"]\n",
        "  if views in viewsList: #Pregunta si la serie se esta en la lista\n",
        "    viewsList[views] += 1 #Si esta le suma uno\n",
        "  else:\n",
        "    viewsList[views] = 1\n",
        "k = Counter(viewsList) #Muestro la lista\n",
        "k.most_common(num)\n",
        "\n",
        "k=dict(k) #Convertimos a k en un mapa de claves y valores\n",
        "key=list(k.keys()) #Convertimos los keys en una lista\n",
        "value=list(k.values()) #Convertimos los values en una lista"
      ]
    },
    {
      "cell_type": "code",
      "source": [
        "plt.figure(figsize = (20,10)) #Definimos el fontSize\n",
        "grafico = sns.barplot(x = key, y = value) #Definimos los values en el eje x y en el eje y\n",
        "plt.xlabel(\"Series\", fontsize = 20) #Creamos un label de series\n",
        "plt.ylabel(\"Duracion\", fontsize = 20) #Creamos un label de duracion"
      ],
      "metadata": {
        "colab": {
          "base_uri": "https://localhost:8080/",
          "height": 398
        },
        "id": "BMXX0nDlJam_",
        "outputId": "7fceb8c7-ad34-46a8-dd15-9d62a58d94d6"
      },
      "execution_count": 19,
      "outputs": [
        {
          "output_type": "execute_result",
          "data": {
            "text/plain": [
              "Text(0, 0.5, 'Duracion')"
            ]
          },
          "metadata": {},
          "execution_count": 19
        },
        {
          "output_type": "display_data",
          "data": {
            "text/plain": [
              "<Figure size 1440x720 with 1 Axes>"
            ],
            "image/png": "[encoded data removed]"
          },
          "metadata": {
            "needs_background": "light"
          }
        }
      ]
    },
    {
      "cell_type": "markdown",
      "metadata": {
        "id": "4X6uZe13AsXB"
      },
      "source": [
        "##d)"
      ]
    },
    {
      "cell_type": "code",
      "execution_count": null,
      "metadata": {
        "id": "zfbADVlTAtLk"
      },
      "outputs": [],
      "source": [
        "#Consigna: Visualizar una semana de reproducciones genérica, \n",
        "#en función a las reproducciones por día y por horario de todos los años del repo."
      ]
    },
    {
      "cell_type": "code",
      "source": [
        "reproducciones = [[day for day in range(24)] for week in range(7)] #Creamos una variable que almacena las horas de un dia y los dias de la semana\n",
        "\n",
        "for dia in range(7): #Recorremos la semana para obtener los dias\n",
        "  for hora in range(24): #Recorremos el dia para obtener las horas\n",
        "    dfFinal['Start Time'] = pd.to_datetime(dfFinal['Start Time'], errors='coerce') #Convertimos el Start Time en datetime\n",
        "    reproducciones[dia][hora] = sum(dfFinal[(dfFinal[\"Start Time\"].dt.dayofweek == dia) & (dfFinal[\"Start Time\"].dt.hour == hora)][\"Title\"].value_counts().to_list())\n",
        "    #Por ultimo guardamos en la variable de los dias de la semana la suma de cada visualizacion por dia"
      ],
      "metadata": {
        "id": "IY7rORh8CwyZ"
      },
      "execution_count": 47,
      "outputs": []
    },
    {
      "cell_type": "code",
      "source": [
        "days = [\"Lunes\", \"Martes\", \"Miercoles\", \"Jueves\", \"Viernes\", \"Sabado\", \"Domingo\"] #Creamos un array de los dias de la semana\n",
        "\n",
        "plt.figure(figsize=(30,10)) #Declaramos el font size del grafico\n",
        "\n",
        "sns.heatmap(reproducciones, annot= True, fmt = 'd', square = True, linewidths = 1.5, cbar = True, yticklabels = days, cmap = \"flare\") #Inicializamos un grafico tipo heatmap"
      ],
      "metadata": {
        "colab": {
          "base_uri": "https://localhost:8080/",
          "height": 387
        },
        "id": "stlLTiKVb8Cn",
        "outputId": "081ca136-59eb-40f9-b188-625a56bee2f7"
      },
      "execution_count": 48,
      "outputs": [
        {
          "output_type": "execute_result",
          "data": {
            "text/plain": [
              "<matplotlib.axes._subplots.AxesSubplot at 0x7fbffc689590>"
            ]
          },
          "metadata": {},
          "execution_count": 48
        },
        {
          "output_type": "display_data",
          "data": {
            "text/plain": [
              "<Figure size 2160x720 with 2 Axes>"
            ],
            "image/png": "[encoded data removed]"
          },
          "metadata": {
            "needs_background": "light"
          }
        }
      ]
    },
    {
      "cell_type": "markdown",
      "metadata": {
        "id": "SdUGx1-dAuoc"
      },
      "source": [
        "##e) "
      ]
    },
    {
      "cell_type": "code",
      "execution_count": null,
      "metadata": {
        "id": "tsxwgsG5AvTf"
      },
      "outputs": [],
      "source": [
        "#Consigna: Contabilizar la cantidad de títulos vistos por año, graficar su variación a través de los años."
      ]
    },
    {
      "cell_type": "code",
      "execution_count": 49,
      "metadata": {
        "id": "WhgAB_ZyKBc2",
        "colab": {
          "base_uri": "https://localhost:8080/",
          "height": 328
        },
        "outputId": "f0a9a573-a47c-4a7b-bceb-56148f9e5812"
      },
      "outputs": [
        {
          "output_type": "error",
          "ename": "TypeError",
          "evalue": "ignored",
          "traceback": [
            "\u001b[0;31m---------------------------------------------------------------------------\u001b[0m",
            "\u001b[0;31mTypeError\u001b[0m                                 Traceback (most recent call last)",
            "\u001b[0;32m<ipython-input-49-faa9afb09e3a>\u001b[0m in \u001b[0;36m<module>\u001b[0;34m\u001b[0m\n\u001b[0;32m----> 1\u001b[0;31m \u001b[0manio\u001b[0m \u001b[0;34m=\u001b[0m \u001b[0mdfFinal\u001b[0m\u001b[0;34m[\u001b[0m\u001b[0;34m\"Start Time\"\u001b[0m\u001b[0;34m]\u001b[0m\u001b[0;34m.\u001b[0m\u001b[0mapply\u001b[0m\u001b[0;34m(\u001b[0m\u001b[0mgetAnio\u001b[0m\u001b[0;34m)\u001b[0m \u001b[0;31m#Aplicamos la funcion para obtener el año\u001b[0m\u001b[0;34m\u001b[0m\u001b[0;34m\u001b[0m\u001b[0m\n\u001b[0m\u001b[1;32m      2\u001b[0m \u001b[0mdfFinal\u001b[0m\u001b[0;34m[\u001b[0m\u001b[0;34m\"Año\"\u001b[0m\u001b[0;34m]\u001b[0m \u001b[0;34m=\u001b[0m \u001b[0manio\u001b[0m \u001b[0;31m#Creamos la columna anio\u001b[0m\u001b[0;34m\u001b[0m\u001b[0;34m\u001b[0m\u001b[0m\n",
            "\u001b[0;32m/usr/local/lib/python3.7/dist-packages/pandas/core/series.py\u001b[0m in \u001b[0;36mapply\u001b[0;34m(self, func, convert_dtype, args, **kwargs)\u001b[0m\n\u001b[1;32m   4355\u001b[0m         \u001b[0mdtype\u001b[0m\u001b[0;34m:\u001b[0m \u001b[0mfloat64\u001b[0m\u001b[0;34m\u001b[0m\u001b[0;34m\u001b[0m\u001b[0m\n\u001b[1;32m   4356\u001b[0m         \"\"\"\n\u001b[0;32m-> 4357\u001b[0;31m         \u001b[0;32mreturn\u001b[0m \u001b[0mSeriesApply\u001b[0m\u001b[0;34m(\u001b[0m\u001b[0mself\u001b[0m\u001b[0;34m,\u001b[0m \u001b[0mfunc\u001b[0m\u001b[0;34m,\u001b[0m \u001b[0mconvert_dtype\u001b[0m\u001b[0;34m,\u001b[0m \u001b[0margs\u001b[0m\u001b[0;34m,\u001b[0m \u001b[0mkwargs\u001b[0m\u001b[0;34m)\u001b[0m\u001b[0;34m.\u001b[0m\u001b[0mapply\u001b[0m\u001b[0;34m(\u001b[0m\u001b[0;34m)\u001b[0m\u001b[0;34m\u001b[0m\u001b[0;34m\u001b[0m\u001b[0m\n\u001b[0m\u001b[1;32m   4358\u001b[0m \u001b[0;34m\u001b[0m\u001b[0m\n\u001b[1;32m   4359\u001b[0m     def _reduce(\n",
            "\u001b[0;32m/usr/local/lib/python3.7/dist-packages/pandas/core/apply.py\u001b[0m in \u001b[0;36mapply\u001b[0;34m(self)\u001b[0m\n\u001b[1;32m   1041\u001b[0m             \u001b[0;32mreturn\u001b[0m \u001b[0mself\u001b[0m\u001b[0;34m.\u001b[0m\u001b[0mapply_str\u001b[0m\u001b[0;34m(\u001b[0m\u001b[0;34m)\u001b[0m\u001b[0;34m\u001b[0m\u001b[0;34m\u001b[0m\u001b[0m\n\u001b[1;32m   1042\u001b[0m \u001b[0;34m\u001b[0m\u001b[0m\n\u001b[0;32m-> 1043\u001b[0;31m         \u001b[0;32mreturn\u001b[0m \u001b[0mself\u001b[0m\u001b[0;34m.\u001b[0m\u001b[0mapply_standard\u001b[0m\u001b[0;34m(\u001b[0m\u001b[0;34m)\u001b[0m\u001b[0;34m\u001b[0m\u001b[0;34m\u001b[0m\u001b[0m\n\u001b[0m\u001b[1;32m   1044\u001b[0m \u001b[0;34m\u001b[0m\u001b[0m\n\u001b[1;32m   1045\u001b[0m     \u001b[0;32mdef\u001b[0m \u001b[0magg\u001b[0m\u001b[0;34m(\u001b[0m\u001b[0mself\u001b[0m\u001b[0;34m)\u001b[0m\u001b[0;34m:\u001b[0m\u001b[0;34m\u001b[0m\u001b[0;34m\u001b[0m\u001b[0m\n",
            "\u001b[0;32m/usr/local/lib/python3.7/dist-packages/pandas/core/apply.py\u001b[0m in \u001b[0;36mapply_standard\u001b[0;34m(self)\u001b[0m\n\u001b[1;32m   1099\u001b[0m                     \u001b[0mvalues\u001b[0m\u001b[0;34m,\u001b[0m\u001b[0;34m\u001b[0m\u001b[0;34m\u001b[0m\u001b[0m\n\u001b[1;32m   1100\u001b[0m                     \u001b[0mf\u001b[0m\u001b[0;34m,\u001b[0m  \u001b[0;31m# type: ignore[arg-type]\u001b[0m\u001b[0;34m\u001b[0m\u001b[0;34m\u001b[0m\u001b[0m\n\u001b[0;32m-> 1101\u001b[0;31m                     \u001b[0mconvert\u001b[0m\u001b[0;34m=\u001b[0m\u001b[0mself\u001b[0m\u001b[0;34m.\u001b[0m\u001b[0mconvert_dtype\u001b[0m\u001b[0;34m,\u001b[0m\u001b[0;34m\u001b[0m\u001b[0;34m\u001b[0m\u001b[0m\n\u001b[0m\u001b[1;32m   1102\u001b[0m                 )\n\u001b[1;32m   1103\u001b[0m \u001b[0;34m\u001b[0m\u001b[0m\n",
            "\u001b[0;32m/usr/local/lib/python3.7/dist-packages/pandas/_libs/lib.pyx\u001b[0m in \u001b[0;36mpandas._libs.lib.map_infer\u001b[0;34m()\u001b[0m\n",
            "\u001b[0;32m<ipython-input-30-e782221c7163>\u001b[0m in \u001b[0;36mgetAnio\u001b[0;34m(anio)\u001b[0m\n\u001b[1;32m      1\u001b[0m \u001b[0;32mdef\u001b[0m \u001b[0mgetAnio\u001b[0m\u001b[0;34m(\u001b[0m\u001b[0manio\u001b[0m\u001b[0;34m)\u001b[0m\u001b[0;34m:\u001b[0m\u001b[0;34m\u001b[0m\u001b[0;34m\u001b[0m\u001b[0m\n\u001b[1;32m      2\u001b[0m   \u001b[0manioFinal\u001b[0m \u001b[0;34m=\u001b[0m \u001b[0;36m0\u001b[0m\u001b[0;34m\u001b[0m\u001b[0;34m\u001b[0m\u001b[0m\n\u001b[0;32m----> 3\u001b[0;31m   \u001b[0manioFinal\u001b[0m \u001b[0;34m+=\u001b[0m \u001b[0mint\u001b[0m\u001b[0;34m(\u001b[0m\u001b[0manio\u001b[0m\u001b[0;34m[\u001b[0m\u001b[0;36m0\u001b[0m\u001b[0;34m]\u001b[0m\u001b[0;34m)\u001b[0m \u001b[0;34m*\u001b[0m \u001b[0;36m1000\u001b[0m\u001b[0;34m\u001b[0m\u001b[0;34m\u001b[0m\u001b[0m\n\u001b[0m\u001b[1;32m      4\u001b[0m   \u001b[0manioFinal\u001b[0m \u001b[0;34m+=\u001b[0m \u001b[0mint\u001b[0m\u001b[0;34m(\u001b[0m\u001b[0manio\u001b[0m\u001b[0;34m[\u001b[0m\u001b[0;36m1\u001b[0m\u001b[0;34m]\u001b[0m\u001b[0;34m)\u001b[0m \u001b[0;34m*\u001b[0m \u001b[0;36m100\u001b[0m\u001b[0;34m\u001b[0m\u001b[0;34m\u001b[0m\u001b[0m\n\u001b[1;32m      5\u001b[0m   \u001b[0manioFinal\u001b[0m \u001b[0;34m+=\u001b[0m \u001b[0mint\u001b[0m\u001b[0;34m(\u001b[0m\u001b[0manio\u001b[0m\u001b[0;34m[\u001b[0m\u001b[0;36m2\u001b[0m\u001b[0;34m]\u001b[0m\u001b[0;34m)\u001b[0m \u001b[0;34m*\u001b[0m \u001b[0;36m10\u001b[0m\u001b[0;34m\u001b[0m\u001b[0;34m\u001b[0m\u001b[0m\n",
            "\u001b[0;31mTypeError\u001b[0m: 'Timestamp' object is not subscriptable"
          ]
        }
      ],
      "source": [
        "anio = dfFinal[\"Start Time\"].apply(getAnio) #Aplicamos la funcion para obtener el año\n",
        "dfFinal[\"Año\"] = anio #Creamos la columna anio"
      ]
    },
    {
      "cell_type": "code",
      "source": [
        "titlesSeenInYear = {} #Aca creamos un array con key del año y en el value los titulos vistos\n",
        "titlesSeenInYear[2015] = len(dfFinal[dfFinal[\"Año\"] == 2015].index)\n",
        "titlesSeenInYear[2016] = len(dfFinal[dfFinal[\"Año\"] == 2016].index)\n",
        "titlesSeenInYear[2017] = len(dfFinal[dfFinal[\"Año\"] == 2017].index)\n",
        "titlesSeenInYear[2018] = len(dfFinal[dfFinal[\"Año\"] == 2018].index)\n",
        "titlesSeenInYear[2019] = len(dfFinal[dfFinal[\"Año\"] == 2019].index)\n",
        "titlesSeenInYear[2020] = len(dfFinal[dfFinal[\"Año\"] == 2020].index)\n",
        "titlesSeenInYear[2021] = len(dfFinal[dfFinal[\"Año\"] == 2021].index)\n",
        "titlesSeenInYear[2022] = len(dfFinal[dfFinal[\"Año\"] == 2022].index)"
      ],
      "metadata": {
        "id": "_z9kuzbZHqSN",
        "colab": {
          "base_uri": "https://localhost:8080/",
          "height": 502
        },
        "outputId": "2730a626-718b-469e-caf2-872846c29126"
      },
      "execution_count": 24,
      "outputs": [
        {
          "output_type": "error",
          "ename": "KeyError",
          "evalue": "ignored",
          "traceback": [
            "\u001b[0;31m---------------------------------------------------------------------------\u001b[0m",
            "\u001b[0;31mKeyError\u001b[0m                                  Traceback (most recent call last)",
            "\u001b[0;32m/usr/local/lib/python3.7/dist-packages/pandas/core/indexes/base.py\u001b[0m in \u001b[0;36mget_loc\u001b[0;34m(self, key, method, tolerance)\u001b[0m\n\u001b[1;32m   3360\u001b[0m             \u001b[0;32mtry\u001b[0m\u001b[0;34m:\u001b[0m\u001b[0;34m\u001b[0m\u001b[0;34m\u001b[0m\u001b[0m\n\u001b[0;32m-> 3361\u001b[0;31m                 \u001b[0;32mreturn\u001b[0m \u001b[0mself\u001b[0m\u001b[0;34m.\u001b[0m\u001b[0m_engine\u001b[0m\u001b[0;34m.\u001b[0m\u001b[0mget_loc\u001b[0m\u001b[0;34m(\u001b[0m\u001b[0mcasted_key\u001b[0m\u001b[0;34m)\u001b[0m\u001b[0;34m\u001b[0m\u001b[0;34m\u001b[0m\u001b[0m\n\u001b[0m\u001b[1;32m   3362\u001b[0m             \u001b[0;32mexcept\u001b[0m \u001b[0mKeyError\u001b[0m \u001b[0;32mas\u001b[0m \u001b[0merr\u001b[0m\u001b[0;34m:\u001b[0m\u001b[0;34m\u001b[0m\u001b[0;34m\u001b[0m\u001b[0m\n",
            "\u001b[0;32m/usr/local/lib/python3.7/dist-packages/pandas/_libs/index.pyx\u001b[0m in \u001b[0;36mpandas._libs.index.IndexEngine.get_loc\u001b[0;34m()\u001b[0m\n",
            "\u001b[0;32m/usr/local/lib/python3.7/dist-packages/pandas/_libs/index.pyx\u001b[0m in \u001b[0;36mpandas._libs.index.IndexEngine.get_loc\u001b[0;34m()\u001b[0m\n",
            "\u001b[0;32mpandas/_libs/hashtable_class_helper.pxi\u001b[0m in \u001b[0;36mpandas._libs.hashtable.PyObjectHashTable.get_item\u001b[0;34m()\u001b[0m\n",
            "\u001b[0;32mpandas/_libs/hashtable_class_helper.pxi\u001b[0m in \u001b[0;36mpandas._libs.hashtable.PyObjectHashTable.get_item\u001b[0;34m()\u001b[0m\n",
            "\u001b[0;31mKeyError\u001b[0m: 'Año'",
            "\nThe above exception was the direct cause of the following exception:\n",
            "\u001b[0;31mKeyError\u001b[0m                                  Traceback (most recent call last)",
            "\u001b[0;32m<ipython-input-24-6c20e7c68269>\u001b[0m in \u001b[0;36m<module>\u001b[0;34m\u001b[0m\n\u001b[1;32m      1\u001b[0m \u001b[0mtitlesSeenInYear\u001b[0m \u001b[0;34m=\u001b[0m \u001b[0;34m{\u001b[0m\u001b[0;34m}\u001b[0m \u001b[0;31m#Aca creamos un array con key del año y en el value los titulos vistos\u001b[0m\u001b[0;34m\u001b[0m\u001b[0;34m\u001b[0m\u001b[0m\n\u001b[0;32m----> 2\u001b[0;31m \u001b[0mtitlesSeenInYear\u001b[0m\u001b[0;34m[\u001b[0m\u001b[0;36m2015\u001b[0m\u001b[0;34m]\u001b[0m \u001b[0;34m=\u001b[0m \u001b[0mlen\u001b[0m\u001b[0;34m(\u001b[0m\u001b[0mdfFinal\u001b[0m\u001b[0;34m[\u001b[0m\u001b[0mdfFinal\u001b[0m\u001b[0;34m[\u001b[0m\u001b[0;34m\"Año\"\u001b[0m\u001b[0;34m]\u001b[0m \u001b[0;34m==\u001b[0m \u001b[0;36m2015\u001b[0m\u001b[0;34m]\u001b[0m\u001b[0;34m.\u001b[0m\u001b[0mindex\u001b[0m\u001b[0;34m)\u001b[0m\u001b[0;34m\u001b[0m\u001b[0;34m\u001b[0m\u001b[0m\n\u001b[0m\u001b[1;32m      3\u001b[0m \u001b[0mtitlesSeenInYear\u001b[0m\u001b[0;34m[\u001b[0m\u001b[0;36m2016\u001b[0m\u001b[0;34m]\u001b[0m \u001b[0;34m=\u001b[0m \u001b[0mlen\u001b[0m\u001b[0;34m(\u001b[0m\u001b[0mdfFinal\u001b[0m\u001b[0;34m[\u001b[0m\u001b[0mdfFinal\u001b[0m\u001b[0;34m[\u001b[0m\u001b[0;34m\"Año\"\u001b[0m\u001b[0;34m]\u001b[0m \u001b[0;34m==\u001b[0m \u001b[0;36m2016\u001b[0m\u001b[0;34m]\u001b[0m\u001b[0;34m.\u001b[0m\u001b[0mindex\u001b[0m\u001b[0;34m)\u001b[0m\u001b[0;34m\u001b[0m\u001b[0;34m\u001b[0m\u001b[0m\n\u001b[1;32m      4\u001b[0m \u001b[0mtitlesSeenInYear\u001b[0m\u001b[0;34m[\u001b[0m\u001b[0;36m2017\u001b[0m\u001b[0;34m]\u001b[0m \u001b[0;34m=\u001b[0m \u001b[0mlen\u001b[0m\u001b[0;34m(\u001b[0m\u001b[0mdfFinal\u001b[0m\u001b[0;34m[\u001b[0m\u001b[0mdfFinal\u001b[0m\u001b[0;34m[\u001b[0m\u001b[0;34m\"Año\"\u001b[0m\u001b[0;34m]\u001b[0m \u001b[0;34m==\u001b[0m \u001b[0;36m2017\u001b[0m\u001b[0;34m]\u001b[0m\u001b[0;34m.\u001b[0m\u001b[0mindex\u001b[0m\u001b[0;34m)\u001b[0m\u001b[0;34m\u001b[0m\u001b[0;34m\u001b[0m\u001b[0m\n\u001b[1;32m      5\u001b[0m \u001b[0mtitlesSeenInYear\u001b[0m\u001b[0;34m[\u001b[0m\u001b[0;36m2018\u001b[0m\u001b[0;34m]\u001b[0m \u001b[0;34m=\u001b[0m \u001b[0mlen\u001b[0m\u001b[0;34m(\u001b[0m\u001b[0mdfFinal\u001b[0m\u001b[0;34m[\u001b[0m\u001b[0mdfFinal\u001b[0m\u001b[0;34m[\u001b[0m\u001b[0;34m\"Año\"\u001b[0m\u001b[0;34m]\u001b[0m \u001b[0;34m==\u001b[0m \u001b[0;36m2018\u001b[0m\u001b[0;34m]\u001b[0m\u001b[0;34m.\u001b[0m\u001b[0mindex\u001b[0m\u001b[0;34m)\u001b[0m\u001b[0;34m\u001b[0m\u001b[0;34m\u001b[0m\u001b[0m\n",
            "\u001b[0;32m/usr/local/lib/python3.7/dist-packages/pandas/core/frame.py\u001b[0m in \u001b[0;36m__getitem__\u001b[0;34m(self, key)\u001b[0m\n\u001b[1;32m   3456\u001b[0m             \u001b[0;32mif\u001b[0m \u001b[0mself\u001b[0m\u001b[0;34m.\u001b[0m\u001b[0mcolumns\u001b[0m\u001b[0;34m.\u001b[0m\u001b[0mnlevels\u001b[0m \u001b[0;34m>\u001b[0m \u001b[0;36m1\u001b[0m\u001b[0;34m:\u001b[0m\u001b[0;34m\u001b[0m\u001b[0;34m\u001b[0m\u001b[0m\n\u001b[1;32m   3457\u001b[0m                 \u001b[0;32mreturn\u001b[0m \u001b[0mself\u001b[0m\u001b[0;34m.\u001b[0m\u001b[0m_getitem_multilevel\u001b[0m\u001b[0;34m(\u001b[0m\u001b[0mkey\u001b[0m\u001b[0;34m)\u001b[0m\u001b[0;34m\u001b[0m\u001b[0;34m\u001b[0m\u001b[0m\n\u001b[0;32m-> 3458\u001b[0;31m             \u001b[0mindexer\u001b[0m \u001b[0;34m=\u001b[0m \u001b[0mself\u001b[0m\u001b[0;34m.\u001b[0m\u001b[0mcolumns\u001b[0m\u001b[0;34m.\u001b[0m\u001b[0mget_loc\u001b[0m\u001b[0;34m(\u001b[0m\u001b[0mkey\u001b[0m\u001b[0;34m)\u001b[0m\u001b[0;34m\u001b[0m\u001b[0;34m\u001b[0m\u001b[0m\n\u001b[0m\u001b[1;32m   3459\u001b[0m             \u001b[0;32mif\u001b[0m \u001b[0mis_integer\u001b[0m\u001b[0;34m(\u001b[0m\u001b[0mindexer\u001b[0m\u001b[0;34m)\u001b[0m\u001b[0;34m:\u001b[0m\u001b[0;34m\u001b[0m\u001b[0;34m\u001b[0m\u001b[0m\n\u001b[1;32m   3460\u001b[0m                 \u001b[0mindexer\u001b[0m \u001b[0;34m=\u001b[0m \u001b[0;34m[\u001b[0m\u001b[0mindexer\u001b[0m\u001b[0;34m]\u001b[0m\u001b[0;34m\u001b[0m\u001b[0;34m\u001b[0m\u001b[0m\n",
            "\u001b[0;32m/usr/local/lib/python3.7/dist-packages/pandas/core/indexes/base.py\u001b[0m in \u001b[0;36mget_loc\u001b[0;34m(self, key, method, tolerance)\u001b[0m\n\u001b[1;32m   3361\u001b[0m                 \u001b[0;32mreturn\u001b[0m \u001b[0mself\u001b[0m\u001b[0;34m.\u001b[0m\u001b[0m_engine\u001b[0m\u001b[0;34m.\u001b[0m\u001b[0mget_loc\u001b[0m\u001b[0;34m(\u001b[0m\u001b[0mcasted_key\u001b[0m\u001b[0;34m)\u001b[0m\u001b[0;34m\u001b[0m\u001b[0;34m\u001b[0m\u001b[0m\n\u001b[1;32m   3362\u001b[0m             \u001b[0;32mexcept\u001b[0m \u001b[0mKeyError\u001b[0m \u001b[0;32mas\u001b[0m \u001b[0merr\u001b[0m\u001b[0;34m:\u001b[0m\u001b[0;34m\u001b[0m\u001b[0;34m\u001b[0m\u001b[0m\n\u001b[0;32m-> 3363\u001b[0;31m                 \u001b[0;32mraise\u001b[0m \u001b[0mKeyError\u001b[0m\u001b[0;34m(\u001b[0m\u001b[0mkey\u001b[0m\u001b[0;34m)\u001b[0m \u001b[0;32mfrom\u001b[0m \u001b[0merr\u001b[0m\u001b[0;34m\u001b[0m\u001b[0;34m\u001b[0m\u001b[0m\n\u001b[0m\u001b[1;32m   3364\u001b[0m \u001b[0;34m\u001b[0m\u001b[0m\n\u001b[1;32m   3365\u001b[0m         \u001b[0;32mif\u001b[0m \u001b[0mis_scalar\u001b[0m\u001b[0;34m(\u001b[0m\u001b[0mkey\u001b[0m\u001b[0;34m)\u001b[0m \u001b[0;32mand\u001b[0m \u001b[0misna\u001b[0m\u001b[0;34m(\u001b[0m\u001b[0mkey\u001b[0m\u001b[0;34m)\u001b[0m \u001b[0;32mand\u001b[0m \u001b[0;32mnot\u001b[0m \u001b[0mself\u001b[0m\u001b[0;34m.\u001b[0m\u001b[0mhasnans\u001b[0m\u001b[0;34m:\u001b[0m\u001b[0;34m\u001b[0m\u001b[0;34m\u001b[0m\u001b[0m\n",
            "\u001b[0;31mKeyError\u001b[0m: 'Año'"
          ]
        }
      ]
    },
    {
      "cell_type": "code",
      "source": [
        "keys = list(titlesSeenInYear.keys()) #Creamos una list de los keys\n",
        "values = list(titlesSeenInYear.values()) #Creamos una lista de los values"
      ],
      "metadata": {
        "id": "iavUFxwiEJ8I"
      },
      "execution_count": null,
      "outputs": []
    },
    {
      "cell_type": "code",
      "source": [
        "plt.figure(figsize = (20,10)) #Definimos tamaños de size\n",
        "grafico = sns.barplot(x = keys, y = values) #Agregamos las list de los keys y los values\n",
        "plt.xlabel(\"Year\", fontsize = 20) #Creamos label de los year\n",
        "plt.ylabel(\"TitlesSeen\", fontsize = 20) #Creamos label de los Titulos vistos"
      ],
      "metadata": {
        "id": "PE7xYjkFJmOE",
        "colab": {
          "base_uri": "https://localhost:8080/",
          "height": 547
        },
        "outputId": "dab75d34-7476-4c61-889e-464781dee3a4"
      },
      "execution_count": null,
      "outputs": [
        {
          "output_type": "execute_result",
          "data": {
            "text/plain": [
              "Text(0, 0.5, 'TitlesSeen')"
            ]
          },
          "metadata": {},
          "execution_count": 36
        },
        {
          "output_type": "display_data",
          "data": {
            "text/plain": [
              "<Figure size 1440x720 with 1 Axes>"
            ],
            "image/png": "[encoded data removed]"
          },
          "metadata": {
            "needs_background": "light"
          }
        }
      ]
    },
    {
      "cell_type": "markdown",
      "metadata": {
        "id": "XwuLFJa8AxJg"
      },
      "source": [
        "##f)"
      ]
    },
    {
      "cell_type": "code",
      "execution_count": null,
      "metadata": {
        "id": "frZ7O5bHAyzx"
      },
      "outputs": [],
      "source": [
        "##Consigna: Total de días de todos los títulos reproducidos."
      ]
    },
    {
      "cell_type": "code",
      "execution_count": 28,
      "metadata": {
        "colab": {
          "base_uri": "https://localhost:8080/"
        },
        "id": "Ht8R6ovGBpNY",
        "outputId": "8af181b2-097c-462e-84cf-ec4f0e6b0170"
      },
      "outputs": [
        {
          "output_type": "execute_result",
          "data": {
            "text/plain": [
              "100"
            ]
          },
          "metadata": {},
          "execution_count": 28
        }
      ],
      "source": [
        "seconds = dfFinal[\"Duration\"].apply(transformTime) #Transforma a segundos\n",
        "dfFinal[\"Seconds\"] = seconds #Crea la columna segundos\n",
        "segundos = dfFinal[\"Seconds\"].sum() #Suma los segundos\n",
        "dias = round(segundos / 86400) #Los divide por dias\n",
        "dias #Muestra los dias"
      ]
    }
  ],
  "metadata": {
    "colab": {
      "collapsed_sections": [
        "rFHMxN17LNcd"
      ],
      "provenance": []
    },
    "kernelspec": {
      "display_name": "Python 3",
      "name": "python3"
    },
    "language_info": {
      "name": "python"
    }
  },
  "nbformat": 4,
  "nbformat_minor": 0
}